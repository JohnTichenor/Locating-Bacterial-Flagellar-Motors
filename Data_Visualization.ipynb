{
  "nbformat": 4,
  "nbformat_minor": 0,
  "metadata": {
    "colab": {
      "provenance": [],
      "include_colab_link": true
    },
    "kernelspec": {
      "name": "python3",
      "display_name": "Python 3"
    },
    "language_info": {
      "name": "python"
    }
  },
  "cells": [
    {
      "cell_type": "markdown",
      "metadata": {
        "id": "view-in-github",
        "colab_type": "text"
      },
      "source": [
        "<a href=\"https://colab.research.google.com/github/JohnTichenor/Locating-Bacterial-Flagellar-Motors/blob/main/Data_Visualization.ipynb\" target=\"_parent\"><img src=\"https://colab.research.google.com/assets/colab-badge.svg\" alt=\"Open In Colab\"/></a>"
      ]
    },
    {
      "cell_type": "markdown",
      "source": [
        "## Install Dependencies"
      ],
      "metadata": {
        "id": "ZeIqPgiHIRog"
      }
    },
    {
      "cell_type": "code",
      "source": [
        "!pip install ipyvolume"
      ],
      "metadata": {
        "id": "b5QGVt-BIRMv"
      },
      "execution_count": null,
      "outputs": []
    },
    {
      "cell_type": "markdown",
      "source": [
        "## Mount Drive"
      ],
      "metadata": {
        "id": "-mlu4TPhezEy"
      }
    },
    {
      "cell_type": "code",
      "source": [
        "# Step 1: Mount Google Drive\n",
        "from google.colab import drive\n",
        "drive.mount('/content/drive')\n",
        "\n",
        "# Step 2: Import libraries\n",
        "import os\n",
        "import numpy as np\n",
        "import matplotlib.pyplot as plt\n",
        "import matplotlib.image as mpimg\n",
        "import ipywidgets as widgets\n",
        "import ipyvolume as ipv\n",
        "import math\n",
        "import pandas as pd"
      ],
      "metadata": {
        "id": "MAQN7Tw4eyX9"
      },
      "execution_count": null,
      "outputs": []
    },
    {
      "cell_type": "markdown",
      "source": [
        "## Visualize the Training Data"
      ],
      "metadata": {
        "id": "8_CitgXyeiNt"
      }
    },
    {
      "cell_type": "code",
      "source": [
        "def visualize_tomographic_volume(folder_path):\n",
        "    \"\"\"\n",
        "    Load JPG slices from the given folder path, stack into a 3D volume,\n",
        "    and visualize with interactive and orthogonal slice views.\n",
        "\n",
        "    Parameters:\n",
        "        folder_path (str): Path to the folder containing .jpg slices\n",
        "    \"\"\"\n",
        "    # Step 1: Get and sort all .jpg image paths\n",
        "    image_paths = sorted([\n",
        "        os.path.join(folder_path, f)\n",
        "        for f in os.listdir(folder_path)\n",
        "        if f.endswith('.jpg')\n",
        "    ])\n",
        "\n",
        "    print(f\"Number of JPG slices found: {len(image_paths)}\")\n",
        "\n",
        "    # Step 2: Stack images into a 3D volume (depth, height, width)\n",
        "    volume = np.stack([mpimg.imread(p) for p in image_paths])\n",
        "    print(\"Volume shape:\", volume.shape)\n",
        "\n",
        "    # Step 3: Interactive scroll-through viewer\n",
        "    def view_slice(idx):\n",
        "        plt.imshow(volume[idx], cmap='gray')\n",
        "        plt.title(f\"Slice {idx}\")\n",
        "        plt.axis('off')\n",
        "        plt.show()\n",
        "\n",
        "    widgets.interact(view_slice, idx=widgets.IntSlider(min=0, max=volume.shape[0]-1, step=1))\n",
        "\n",
        "    # Step 4: Display middle slice in each plane\n",
        "    plt.figure(figsize=(15, 5))\n",
        "\n",
        "    plt.subplot(1, 3, 1)\n",
        "    plt.imshow(volume[volume.shape[0]//2], cmap='gray')       # Axial\n",
        "    plt.title('Axial'); plt.axis('off')\n",
        "\n",
        "    plt.subplot(1, 3, 2)\n",
        "    plt.imshow(volume[:, volume.shape[1]//2, :], cmap='gray') # Coronal\n",
        "    plt.title('Coronal'); plt.axis('off')\n",
        "\n",
        "    plt.subplot(1, 3, 3)\n",
        "    plt.imshow(volume[:, :, volume.shape[2]//2], cmap='gray') # Sagittal\n",
        "    plt.title('Sagittal'); plt.axis('off')\n",
        "\n",
        "    plt.tight_layout()\n",
        "    plt.show()\n",
        "\n",
        "\n",
        "folder_path = '/content/drive/MyDrive/BacterialFlagellarMotorsData/test/tomo_003acc'\n",
        "visualize_tomographic_volume(folder_path)\n"
      ],
      "metadata": {
        "id": "WWlU_Btyhoww"
      },
      "execution_count": null,
      "outputs": []
    },
    {
      "cell_type": "code",
      "source": [
        "import matplotlib.patches as patches # Import the patches module\n",
        "\n",
        "def annotate_motors(tomo_folder_path, csv_path, radius=10, cols=3):\n",
        "    \"\"\"\n",
        "    Annotates all motors in a single tomo folder, grouping motors per slice and\n",
        "    displaying images with all motor locations marked, side by side.\n",
        "\n",
        "    Parameters:\n",
        "        tomo_folder_path (str): Path to folder with slice_XXXX.jpg images\n",
        "        csv_path (str): Path to CSV file with motor locations\n",
        "        radius (int): Radius of circle drawn around motors\n",
        "        cols (int): Number of columns for side-by-side display\n",
        "    \"\"\"\n",
        "    tomo_id = os.path.basename(os.path.normpath(tomo_folder_path))\n",
        "    df = pd.read_csv(csv_path)\n",
        "    df_valid = df[(df['tomo_id'] == tomo_id) & (df['Motor axis 0'] >= 0)]\n",
        "\n",
        "    if df_valid.empty:\n",
        "        print(f\"No valid motor entries found for {tomo_id}\")\n",
        "        return\n",
        "\n",
        "    # Group motors by slice index (axis 0)\n",
        "    grouped = df_valid.groupby('Motor axis 0')\n",
        "\n",
        "    num_slices = len(grouped)\n",
        "    rows = math.ceil(num_slices / cols)\n",
        "\n",
        "    fig, axs = plt.subplots(rows, cols, figsize=(5 * cols, 5 * rows))\n",
        "    axs = axs.flatten()  # for easy indexing\n",
        "\n",
        "    for i, (z, group) in enumerate(grouped):\n",
        "        z = int(z)\n",
        "        image_name = f\"slice_{z:04d}.jpg\"\n",
        "        image_path = os.path.join(tomo_folder_path, image_name)\n",
        "\n",
        "        if not os.path.exists(image_path):\n",
        "            print(f\"Missing: {image_path}\")\n",
        "            continue\n",
        "\n",
        "        img = mpimg.imread(image_path)\n",
        "        ax = axs[i]\n",
        "        ax.imshow(img, cmap='gray')\n",
        "        ax.set_title(f\"{tomo_id} - slice {z:04d}\")\n",
        "        ax.axis('off')\n",
        "\n",
        "        # Draw all motor positions in this slice\n",
        "        for _, row in group.iterrows():\n",
        "            x = row['Motor axis 2']\n",
        "            y = row['Motor axis 1']\n",
        "            circ = patches.Circle((x, y), radius=radius, edgecolor='red', facecolor='none', linewidth=2)\n",
        "            ax.add_patch(circ)\n",
        "\n",
        "    # Hide any unused subplots\n",
        "    for j in range(i + 1, len(axs)):\n",
        "        axs[j].axis('off')\n",
        "\n",
        "    plt.tight_layout()\n",
        "    plt.show()\n",
        "\n",
        "\n",
        "\n",
        "tomo_folder_path = '/content/drive/MyDrive/BacterialFlagellarMotorsData/train/tomo_00e463'\n",
        "csv_path = '/content/drive/MyDrive/BacterialFlagellarMotorsData/train_labels.csv'\n",
        "\n",
        "annotate_motors(tomo_folder_path, csv_path, radius = 15)"
      ],
      "metadata": {
        "id": "nRNE0ozwKXNV"
      },
      "execution_count": null,
      "outputs": []
    },
    {
      "cell_type": "code",
      "source": [
        "def plot_3d_volume(folder_path, level=0.6, opacity=0.02, downsample=2):\n",
        "    \"\"\"\n",
        "    Load JPG slices from a folder and render them as a 3D volume using ipyvolume.\n",
        "\n",
        "    Parameters:\n",
        "        folder_path (str): Path to the folder containing .jpg slices\n",
        "        level (float): Isosurface threshold (0 to 1)\n",
        "        opacity (float): Opacity of the volume rendering\n",
        "        downsample (int): Downsampling factor for memory efficiency\n",
        "    \"\"\"\n",
        "    # Step 1: Get and sort all .jpg image paths\n",
        "    image_paths = sorted([\n",
        "        os.path.join(folder_path, f)\n",
        "        for f in os.listdir(folder_path)\n",
        "        if f.endswith('.jpg')\n",
        "    ])\n",
        "\n",
        "    print(f\"Number of JPG slices found: {len(image_paths)}\")\n",
        "\n",
        "    # Step 2: Stack into volume\n",
        "    volume = np.stack([mpimg.imread(p) for p in image_paths])\n",
        "    print(\"Original volume shape:\", volume.shape)\n",
        "\n",
        "    # Step 3: Normalize to [0, 1]\n",
        "    volume_norm = (volume - np.min(volume)) / (np.max(volume) - np.min(volume))\n",
        "\n",
        "    # Step 4: Downsample for rendering\n",
        "    if downsample > 1:\n",
        "        volume_ds = volume_norm[::downsample, ::downsample, ::downsample]\n",
        "    else:\n",
        "        volume_ds = volume_norm\n",
        "\n",
        "    print(\"Downsampled volume shape:\", volume_ds.shape)\n",
        "\n",
        "    # Step 5: Display 3D volume\n",
        "    ipv.figure()\n",
        "    ipv.volshow(volume_ds, level=level, opacity=opacity)\n",
        "    ipv.show()\n",
        "\n",
        "folder_path = '/content/drive/MyDrive/BacterialFlagellarMotorsData/test/tomo_003acc'\n",
        "#plot_3d_volume(folder_path)\n"
      ],
      "metadata": {
        "id": "yARQke91ihuI"
      },
      "execution_count": null,
      "outputs": []
    },
    {
      "cell_type": "code",
      "source": [],
      "metadata": {
        "id": "uBL8SrxTn8sx"
      },
      "execution_count": null,
      "outputs": []
    }
  ]
}